{
 "cells": [
  {
   "cell_type": "code",
   "execution_count": 8,
   "metadata": {},
   "outputs": [
    {
     "data": {
      "text/plain": [
       "1"
      ]
     },
     "execution_count": 8,
     "metadata": {},
     "output_type": "execute_result"
    }
   ],
   "source": [
    "# 1 2 3 4\n",
    "# 예제 출력 \n",
    "# 3\n",
    "# 힌트\n",
    "# 아래와 같이 움직이면 면적이 3인 직사각형을 만들 수 있다.\n",
    "\n",
    "# 앞으로 네 걸음간다.\n",
    "# 오른쪽으로 방향을 바꾼다.\n",
    "# 한 걸음 앞으로 간다.\n",
    "# 오른쪽으로 방향을 바꾼다\n",
    "# 세 걸음 걷는다.\n",
    "# 방향을 다시 90도 회전한다.\n",
    "# 두 걸음 앞으로 걷는다.\n",
    "\n",
    "\n",
    "def solution(A):\n",
    "    # write your code in Python 3.6\n",
    "    A.sort()\n",
    "    minN = 0\n",
    "    one = 1\n",
    "    for i in range(len(A)):\n",
    "        if A[i]>0:\n",
    "            if A[i+1]\n",
    "    pass\n",
    "    \n",
    "solution([1, 3, 6, 4, 1, 2])"
   ]
  },
  {
   "cell_type": "code",
   "execution_count": null,
   "metadata": {},
   "outputs": [],
   "source": []
  }
 ],
 "metadata": {
  "kernelspec": {
   "display_name": "Python 3",
   "language": "python",
   "name": "python3"
  },
  "language_info": {
   "codemirror_mode": {
    "name": "ipython",
    "version": 3
   },
   "file_extension": ".py",
   "mimetype": "text/x-python",
   "name": "python",
   "nbconvert_exporter": "python",
   "pygments_lexer": "ipython3",
   "version": "3.6.4"
  }
 },
 "nbformat": 4,
 "nbformat_minor": 2
}
